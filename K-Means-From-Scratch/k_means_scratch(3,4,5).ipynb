{
  "nbformat": 4,
  "nbformat_minor": 0,
  "metadata": {
    "colab": {
      "provenance": []
    },
    "kernelspec": {
      "name": "python3",
      "display_name": "Python 3"
    },
    "language_info": {
      "name": "python"
    }
  },
  "cells": [
    {
      "cell_type": "markdown",
      "source": [
        "---\n",
        "### Set up the same stop criteria: “when there is no change in centroid position OR when the SSE value increases in the next iteration OR when the maximum preset value (e.g., 500, you can set the preset value by yourself) of iteration is complete”, for Euclidean-K-means, Cosine-K- means, Jarcard-K-means. Which method requires more iterations and times to converge? (10 points)\n",
        "---"
      ],
      "metadata": {
        "id": "9dtu_CHhm3WZ"
      }
    },
    {
      "cell_type": "code",
      "source": [
        "import pandas as pd\n",
        "import numpy as np\n",
        "from scipy.spatial.distance import cdist\n",
        "import time\n",
        "import random"
      ],
      "metadata": {
        "id": "BEoqumid6KeK"
      },
      "execution_count": 1,
      "outputs": []
    },
    {
      "cell_type": "code",
      "source": [
        "data = pd.read_csv(\"/content/data.csv\",header=None).values\n",
        "label = pd.read_csv(\"/content/label.csv\",header=None).values.reshape(-1)"
      ],
      "metadata": {
        "id": "YY9H_0GIhbXx"
      },
      "execution_count": 2,
      "outputs": []
    },
    {
      "cell_type": "markdown",
      "source": [
        "Define distances/similarities "
      ],
      "metadata": {
        "id": "2au6AcOthWH4"
      }
    },
    {
      "cell_type": "code",
      "source": [
        "def euclidean_dist(a, b):\n",
        "    return np.linalg.norm(a - b)\n",
        "\n",
        "def cosine_sim(a, b):\n",
        "    return 1 - np.dot(a, b) / (np.linalg.norm(a) * np.linalg.norm(b))\n",
        "\n",
        "def jaccard_sim(a, b):\n",
        "    return 1 - np.sum(np.minimum(a, b)) / np.sum(np.maximum(a, b))"
      ],
      "metadata": {
        "id": "CwUHIifhhRol"
      },
      "execution_count": 3,
      "outputs": []
    },
    {
      "cell_type": "code",
      "source": [
        "k = len(np.unique(label))\n",
        "k"
      ],
      "metadata": {
        "colab": {
          "base_uri": "https://localhost:8080/"
        },
        "id": "PkM2WmSthetU",
        "outputId": "69ca4deb-4c37-4c92-f8d8-3eabfc5b95c7"
      },
      "execution_count": 4,
      "outputs": [
        {
          "output_type": "execute_result",
          "data": {
            "text/plain": [
              "10"
            ]
          },
          "metadata": {},
          "execution_count": 4
        }
      ]
    },
    {
      "cell_type": "markdown",
      "source": [
        "**K-Means**"
      ],
      "metadata": {
        "id": "yOV7cMglxHSz"
      }
    },
    {
      "cell_type": "code",
      "source": [
        "class KMeans:\n",
        "    def __init__(self, k=10, max_iter=100, distance=euclidean_dist, seed=42):\n",
        "        self.k = k\n",
        "        self.max_iter = max_iter\n",
        "        self.distance = distance\n",
        "        self.seed = seed\n",
        "    \n",
        "    def fit(self, X):\n",
        "        np.random.seed(self.seed)\n",
        "        self.centroids = X[np.random.choice(X.shape[0], self.k, replace=False)]\n",
        "        prev_sse = np.inf\n",
        "        for i in range(self.max_iter):\n",
        "            clusters = [[] for _ in range(self.k)]\n",
        "            for x in X:\n",
        "                distances = [self.distance(x, c) for c in self.centroids]\n",
        "                cluster = np.argmin(distances)\n",
        "                clusters[cluster].append(x)\n",
        "            new_centroids = []\n",
        "            for cluster in clusters:\n",
        "                if len(cluster) == 0:\n",
        "                    new_centroids.append(np.zeros(X.shape[1]))\n",
        "                else:\n",
        "                    new_centroids.append(np.mean(cluster, axis=0))\n",
        "            sse = np.sum([np.sum((cluster - centroid)**2) for cluster, centroid in zip(clusters, new_centroids)])\n",
        "            if np.allclose(self.centroids, new_centroids) or sse > prev_sse:\n",
        "                break\n",
        "            self.centroids = new_centroids\n",
        "            prev_sse = sse\n",
        "    \n",
        "    def predict(self, X):\n",
        "        distances = np.array([np.array([self.distance(x, c) for c in self.centroids]) for x in X])\n",
        "        return np.argmin(distances, axis=1)"
      ],
      "metadata": {
        "id": "UPFJMG1C6wrI"
      },
      "execution_count": 5,
      "outputs": []
    },
    {
      "cell_type": "code",
      "source": [
        "t1 = time.time()\n",
        "\n",
        "k_euclid = KMeans(k=10, max_iter=500, distance=euclidean_dist)\n",
        "k_euclid.fit(data)\n",
        "t2 = time.time()\n"
      ],
      "metadata": {
        "id": "S8lDgXzWho4J"
      },
      "execution_count": 6,
      "outputs": []
    },
    {
      "cell_type": "code",
      "source": [
        "t3 = time.time()\n",
        "\n",
        "k_cosine = KMeans(k=10, max_iter=500, distance=cosine_sim)\n",
        "k_cosine.fit(data)\n",
        "t4 = time.time()\n"
      ],
      "metadata": {
        "id": "ckH6iqXR76Um"
      },
      "execution_count": 7,
      "outputs": []
    },
    {
      "cell_type": "code",
      "source": [
        "t5 = time.time()\n",
        "k_jacard = KMeans(k=10, max_iter=500, distance=jaccard_sim)\n",
        "k_jacard.fit(data)\n",
        "t6 = time.time()\n"
      ],
      "metadata": {
        "id": "4r_aul_278Lb"
      },
      "execution_count": 8,
      "outputs": []
    },
    {
      "cell_type": "code",
      "source": [
        "print(\"Euclidean converged in {} iterations\".format(len(k_euclid.centroids)))\n",
        "print(\"Time by Euclidean to converge {}\\n\".format(t2-t1))\n",
        "\n",
        "print(\"Cosine converged in {} iterations\".format(len(k_cosine.centroids)))\n",
        "print(\"Time by Cosine to converge {}\\n\".format(t4-t3))\n",
        "\n",
        "print(\"Jaccard converged in {} iterations\".format(len(k_jacard.centroids)))\n",
        "print(\"Time by Jaccard to converge {}\\n\".format(t6-t5))"
      ],
      "metadata": {
        "id": "AWWsaIV28UWB",
        "colab": {
          "base_uri": "https://localhost:8080/"
        },
        "outputId": "e2c161c9-389a-4737-86b3-6b77631829c9"
      },
      "execution_count": 9,
      "outputs": [
        {
          "output_type": "stream",
          "name": "stdout",
          "text": [
            "Euclidean converged in 10 iterations\n",
            "Time by Euclidean to converge 25.6650710105896\n",
            "\n",
            "Cosine converged in 10 iterations\n",
            "Time by Cosine to converge 44.05938649177551\n",
            "\n",
            "Jaccard converged in 10 iterations\n",
            "Time by Jaccard to converge 61.64747166633606\n",
            "\n"
          ]
        }
      ]
    },
    {
      "cell_type": "markdown",
      "source": [
        "**Comment:**\n",
        "\n",
        "All methods required the same amount of iterations.\n",
        "\n",
        "Euclidian took less time to converage"
      ],
      "metadata": {
        "id": "-WwB2KMKrGR3"
      }
    },
    {
      "cell_type": "markdown",
      "source": [
        "---\n",
        "### Compare the SSEs of Euclidean-K-means Cosine-K-means, Jarcard-K-means with respect to the following three terminating conditions: (10 points)\n",
        "* when there is no change in centroid position\n",
        "* when the SSE value increases in the next iteration\n",
        "* when the maximum preset value (e.g., 100) of iteration is complete\n",
        "---"
      ],
      "metadata": {
        "id": "4GS-T0pHEZTB"
      }
    },
    {
      "cell_type": "markdown",
      "source": [
        "* **when there is no change in centroid position**"
      ],
      "metadata": {
        "id": "dG5fvfz4kOkK"
      }
    },
    {
      "cell_type": "code",
      "source": [
        "\n",
        "class KMeans:\n",
        "    def __init__(self, k=10, max_iter=100, distance=euclidean_dist, seed=42):\n",
        "        self.k = k\n",
        "        self.max_iter = max_iter\n",
        "        self.distance = distance\n",
        "        self.seed = seed\n",
        "\n",
        "    def fit(self, X):\n",
        "        np.random.seed(self.seed)\n",
        "        self.centroids = X[np.random.choice(X.shape[0], self.k, replace=False)]\n",
        "        prev_centroids = None\n",
        "        for i in range(self.max_iter):\n",
        "            clusters = [[] for _ in range(self.k)]\n",
        "            for x in X:\n",
        "                distances = cdist(x.reshape(1, -1), self.centroids, metric=self.distance)\n",
        "                cluster = np.argmin(distances)\n",
        "                clusters[cluster].append(x)\n",
        "            prev_centroids = self.centroids.copy()\n",
        "            self.centroids = [np.mean(cluster, axis=0) for cluster in clusters]\n",
        "            if np.allclose(prev_centroids, self.centroids):\n",
        "                break\n",
        "\n",
        "    def predict(self, X):\n",
        "        distances = cdist(X, self.centroids, metric=self.distance)\n",
        "        return np.argmin(distances, axis=1)\n",
        "\n",
        "# Sample data\n",
        "X, y = data,label\n",
        "\n",
        "# Models\n",
        "euclidean_kmeans = KMeans(k=10, max_iter=100, distance=euclidean_dist, seed=42)\n",
        "cosine_kmeans = KMeans(k=10, max_iter=100, distance=cosine_sim, seed=42)\n",
        "jaccard_kmeans = KMeans(k=10, max_iter=100, distance=jaccard_sim, seed=42)"
      ],
      "metadata": {
        "id": "2VwLFevpEgcB"
      },
      "execution_count": 10,
      "outputs": []
    },
    {
      "cell_type": "code",
      "source": [
        "euclidean_kmeans.fit(X)\n",
        "euclidean_sse = np.sum(np.min(cdist(X, euclidean_kmeans.centroids, 'euclidean'), axis=1)**2)\n"
      ],
      "metadata": {
        "id": "TwZRZzRPHukJ"
      },
      "execution_count": 11,
      "outputs": []
    },
    {
      "cell_type": "code",
      "source": [
        "cosine_kmeans.fit(X)\n",
        "cosine_sse = np.sum(np.min(cdist(X, cosine_kmeans.centroids, 'cosine'), axis=1)**2)\n"
      ],
      "metadata": {
        "id": "b0clSXrOKWTL"
      },
      "execution_count": 12,
      "outputs": []
    },
    {
      "cell_type": "code",
      "source": [
        "jaccard_kmeans.fit(X)\n",
        "jaccard_sse = np.sum(np.min(cdist(X, jaccard_kmeans.centroids, 'jaccard'), axis=1)**2)\n"
      ],
      "metadata": {
        "id": "QPY63ZMkKWEg"
      },
      "execution_count": 13,
      "outputs": []
    },
    {
      "cell_type": "code",
      "source": [
        "print(\"Euclidean SSE:\\n\", euclidean_sse)\n",
        "print(\"Cosine SSE:\\n\", cosine_sse)\n",
        "print(\"Jaccard SSE:\\n\", jaccard_sse)"
      ],
      "metadata": {
        "colab": {
          "base_uri": "https://localhost:8080/"
        },
        "id": "ASxO6h6Pn0cS",
        "outputId": "1cea95dc-dee5-437a-bcb8-a1e846913af1"
      },
      "execution_count": 14,
      "outputs": [
        {
          "output_type": "stream",
          "name": "stdout",
          "text": [
            "Euclidean SSE:\n",
            " 25414767689.961178\n",
            "Cosine SSE:\n",
            " 686.4355725684936\n",
            "Jaccard SSE:\n",
            " 9999.83773073805\n"
          ]
        }
      ]
    },
    {
      "cell_type": "markdown",
      "source": [
        "* **when the SSE value increases in the next iteration**"
      ],
      "metadata": {
        "id": "eHgbPEL2E_vA"
      }
    },
    {
      "cell_type": "code",
      "source": [
        "class KMeans:\n",
        "    def __init__(self, k=10, max_iter=100, distance=euclidean_dist, seed=42):\n",
        "        self.k = k\n",
        "        self.max_iter = max_iter\n",
        "        self.distance = distance\n",
        "        self.seed = seed\n",
        "\n",
        "    def fit(self, X):\n",
        "        np.random.seed(self.seed)\n",
        "        self.centroids = X[np.random.choice(X.shape[0], self.k, replace=False)]\n",
        "        prev_centroids = None\n",
        "        prev_sse = float('inf')\n",
        "        for i in range(self.max_iter):\n",
        "            clusters = [[] for _ in range(self.k)]\n",
        "            for x in X:\n",
        "                distances = cdist(x.reshape(1, -1), self.centroids, metric=self.distance)\n",
        "                cluster = np.argmin(distances)\n",
        "                clusters[cluster].append(x)\n",
        "            prev_centroids = self.centroids.copy()\n",
        "            self.centroids = [np.mean(cluster, axis=0) for cluster in clusters]\n",
        "            sse = np.sum([np.sum(cdist(cluster, centroid.reshape(1,-1), metric=self.distance)**2) for cluster, centroid in zip(clusters, self.centroids)])\n",
        "            if sse > prev_sse:\n",
        "                break\n",
        "            prev_sse = sse\n",
        "            if np.allclose(prev_centroids, self.centroids):\n",
        "                break\n",
        "\n",
        "    def predict(self, X):\n",
        "        distances = cdist(X, self.centroids, metric=self.distance)\n",
        "        return np.argmin(distances, axis=1)\n",
        "\n",
        "# Data\n",
        "X, y = data,label\n",
        "\n",
        "# Models\n",
        "euclidean_kmeans = KMeans(k=10, max_iter=100, distance=euclidean_dist, seed=42)\n",
        "cosine_kmeans = KMeans(k=10, max_iter=100, distance=cosine_sim, seed=42)\n",
        "jaccard_kmeans = KMeans(k=10, max_iter=100, distance=jaccard_sim, seed=42)\n",
        "\n",
        "# Fit Model\n",
        "euclidean_kmeans.fit(X)\n",
        "cosine_kmeans.fit(X)\n",
        "jaccard_kmeans.fit(X)\n",
        "\n",
        "euclidean_sse = np.sum(np.min(cdist(X, euclidean_kmeans.centroids, 'euclidean'), axis=1)**2)\n",
        "cosine_sse = np.sum(np.min(cdist(X, cosine_kmeans.centroids, 'cosine'), axis=1)**2)\n",
        "jaccard_sse = np.sum(np.min(cdist(X, jaccard_kmeans.centroids, 'jaccard'), axis=1)**2)\n",
        "\n",
        "# Print SSE\n",
        "print(\"Euclidean SSE:\\n\", euclidean_sse)\n",
        "print(\"Cosine SSE:\\n\", cosine_sse)\n",
        "print(\"Jaccard SSE:\\n\", jaccard_sse)"
      ],
      "metadata": {
        "id": "b0YLkx07MBAP",
        "colab": {
          "base_uri": "https://localhost:8080/"
        },
        "outputId": "143b5696-b09f-4d66-f9ef-0e13b3033d59"
      },
      "execution_count": 15,
      "outputs": [
        {
          "output_type": "stream",
          "name": "stdout",
          "text": [
            "Euclidean SSE:\n",
            " 25414767689.961178\n",
            "Cosine SSE:\n",
            " 686.229294287177\n",
            "Jaccard SSE:\n",
            " 9999.907741263536\n"
          ]
        }
      ]
    },
    {
      "cell_type": "markdown",
      "source": [
        "* **when the maximum preset value (e.g., 100) of iteration is complete**"
      ],
      "metadata": {
        "id": "HAnOHYf0pLJr"
      }
    },
    {
      "cell_type": "code",
      "source": [
        "# Define KMeans class\n",
        "class KMeans:\n",
        "    def __init__(self, k=10, max_iter=100, distance=euclidean_dist, seed=42):\n",
        "        self.k = k\n",
        "        self.max_iter = max_iter\n",
        "        self.distance = distance\n",
        "        self.seed = seed\n",
        "\n",
        "    def fit(self, X):\n",
        "        np.random.seed(self.seed)\n",
        "        self.centroids = X[np.random.choice(X.shape[0], self.k, replace=False)]\n",
        "        prev_centroids = None\n",
        "        for i in range(self.max_iter):\n",
        "            clusters = [[] for _ in range(self.k)]\n",
        "            for x in X:\n",
        "                distances = cdist(x.reshape(1, -1), self.centroids, metric=self.distance)\n",
        "                cluster = np.argmin(distances)\n",
        "                clusters[cluster].append(x)\n",
        "            prev_centroids = self.centroids.copy()\n",
        "            self.centroids = [np.mean(cluster, axis=0) for cluster in clusters]\n",
        "            if np.allclose(prev_centroids, self.centroids):\n",
        "                break\n",
        "            elif i == self.max_iter-1:\n",
        "                print(f\"KMeans did not converge in {self.max_iter} iterations\")\n",
        "                break\n",
        "\n",
        "    def predict(self, X):\n",
        "        distances = cdist(X, self.centroids, metric=self.distance)\n",
        "        return np.argmin(distances, axis=1)\n",
        "\n",
        "# Data\n",
        "X, y = data,label\n",
        "\n",
        "# Models\n",
        "euclidean_kmeans = KMeans(k=10, max_iter=100, distance=euclidean_dist, seed=42)\n",
        "cosine_kmeans = KMeans(k=10, max_iter=100, distance=cosine_sim, seed=42)\n",
        "jaccard_kmeans = KMeans(k=10, max_iter=100, distance=jaccard_sim, seed=42)\n",
        "\n",
        "# Fit Model\n",
        "euclidean_kmeans.fit(X)\n",
        "cosine_kmeans.fit(X)\n",
        "jaccard_kmeans.fit(X)\n",
        "\n",
        "\n",
        "euclidean_sse = sum(np.min(cdist(X, euclidean_kmeans.centroids, euclidean_dist), axis=1)**2)\n",
        "cosine_sse = sum(np.min(cdist(X, cosine_kmeans.centroids, cosine_sim), axis=1)**2)\n",
        "jaccard_sse = sum(np.min(cdist(X, jaccard_kmeans.centroids, jaccard_sim), axis=1)**2)\n",
        "\n",
        "# Print SSE\n",
        "print(\"Euclidean SSE:\\n\", euclidean_sse)\n",
        "print(\"Cosine SSE:\\n\", cosine_sse)\n",
        "print(\"Jaccard SSE:\\n\", jaccard_sse)"
      ],
      "metadata": {
        "id": "5dSrFfmmb-pc",
        "colab": {
          "base_uri": "https://localhost:8080/"
        },
        "outputId": "cf3c2e59-c783-4bf9-db31-6a5d4267dfc6"
      },
      "execution_count": 16,
      "outputs": [
        {
          "output_type": "stream",
          "name": "stdout",
          "text": [
            "Euclidean SSE:\n",
            " 25414767689.9611\n",
            "Cosine SSE:\n",
            " 686.435572568491\n",
            "Jaccard SSE:\n",
            " 3660.389493716567\n"
          ]
        }
      ]
    },
    {
      "cell_type": "markdown",
      "source": [
        "---\n",
        "###What are your summary observations or takeaways based on your algorithmic analysis? (5 points)\n",
        "---"
      ],
      "metadata": {
        "id": "zaw-egAjycKH"
      }
    },
    {
      "cell_type": "markdown",
      "source": [
        "**Comment:**\n",
        "\n",
        "The summary oberservation for all questions/tasks (1,2,3,4,5)\n",
        "\n",
        "For Questions 1 and 2\n",
        "\n",
        "It seems that Cosine Similarity is the better method against the other distances when we run a regular K-means \n",
        "\n",
        "For Questins 3,4,5\n",
        "\n",
        "All Methods seem to converage at the same iteration but Euclid being the faster to do so.\n",
        "\n",
        "Now, when we apply different stop criteria. For the first 2 conditions there seems to be no much of a difference\n",
        "\n",
        "But when it comes to applying the max present value of iteration, Cosine performs better than the other two. \n",
        "\n",
        "This can also be based on the type of data. \n"
      ],
      "metadata": {
        "id": "izTydW-1yjJL"
      }
    }
  ]
}